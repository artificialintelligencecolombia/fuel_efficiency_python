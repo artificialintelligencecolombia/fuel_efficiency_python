{
 "cells": [
  {
   "cell_type": "code",
   "execution_count": 3,
   "metadata": {},
   "outputs": [],
   "source": [
    "# import libraries\n",
    "import pandas as pd\n",
    "import numpy as np\n",
    "%matplotlib inline"
   ]
  },
  {
   "cell_type": "code",
   "execution_count": 7,
   "metadata": {},
   "outputs": [
    {
     "name": "stdout",
     "output_type": "stream",
     "text": [
      "   barrels08  barrelsA08  charge120  charge240  city08  city08U  cityA08  \\\n",
      "0  14.167143         0.0        0.0        0.0      19      0.0        0   \n",
      "1  27.046364         0.0        0.0        0.0       9      0.0        0   \n",
      "2  11.018889         0.0        0.0        0.0      23      0.0        0   \n",
      "3  27.046364         0.0        0.0        0.0      10      0.0        0   \n",
      "4  15.658421         0.0        0.0        0.0      17      0.0        0   \n",
      "\n",
      "   cityA08U  cityCD  cityE  ...  mfrCode  c240Dscr  charge240b  c240bDscr  \\\n",
      "0       0.0     0.0    0.0  ...      NaN       NaN         0.0        NaN   \n",
      "1       0.0     0.0    0.0  ...      NaN       NaN         0.0        NaN   \n",
      "2       0.0     0.0    0.0  ...      NaN       NaN         0.0        NaN   \n",
      "3       0.0     0.0    0.0  ...      NaN       NaN         0.0        NaN   \n",
      "4       0.0     0.0    0.0  ...      NaN       NaN         0.0        NaN   \n",
      "\n",
      "                      createdOn                    modifiedOn  startStop  \\\n",
      "0  Tue Jan 01 00:00:00 EST 2013  Tue Jan 01 00:00:00 EST 2013        NaN   \n",
      "1  Tue Jan 01 00:00:00 EST 2013  Tue Jan 01 00:00:00 EST 2013        NaN   \n",
      "2  Tue Jan 01 00:00:00 EST 2013  Tue Jan 01 00:00:00 EST 2013        NaN   \n",
      "3  Tue Jan 01 00:00:00 EST 2013  Tue Jan 01 00:00:00 EST 2013        NaN   \n",
      "4  Tue Jan 01 00:00:00 EST 2013  Tue Jan 01 00:00:00 EST 2013        NaN   \n",
      "\n",
      "   phevCity  phevHwy  phevComb  \n",
      "0         0        0         0  \n",
      "1         0        0         0  \n",
      "2         0        0         0  \n",
      "3         0        0         0  \n",
      "4         0        0         0  \n",
      "\n",
      "[5 rows x 84 columns]\n"
     ]
    },
    {
     "name": "stderr",
     "output_type": "stream",
     "text": [
      "C:\\Users\\damal\\AppData\\Local\\Temp\\ipykernel_8824\\382202395.py:2: DtypeWarning: Columns (72,74,75,77) have mixed types. Specify dtype option on import or set low_memory=False.\n",
      "  vehicles = pd.read_csv(\"vehicles.csv\")\n"
     ]
    }
   ],
   "source": [
    "# Fetch the data into a data frame\n",
    "vehicles = pd.read_csv(\"vehicles.csv\")\n",
    "print(vehicles.head())"
   ]
  },
  {
   "cell_type": "code",
   "execution_count": 5,
   "metadata": {},
   "outputs": [
    {
     "data": {
      "text/plain": [
       "array(['cylinders', 'displ', 'atvType', 'fuelType2', 'rangeA', 'evMotor'],\n",
       "      dtype=object)"
      ]
     },
     "execution_count": 5,
     "metadata": {},
     "output_type": "execute_result"
    }
   ],
   "source": [
    "# Project's overview indicates that these columns contain mixed data types\n",
    "column_names = vehicles.columns.values\n",
    "column_names[[22, 23, 70, 71, 72, 73]]\n",
    "\n",
    "# Data cleaning & wrangling consumes the 90% of project time."
   ]
  },
  {
   "cell_type": "code",
   "execution_count": 10,
   "metadata": {},
   "outputs": [
    {
     "name": "stdout",
     "output_type": "stream",
     "text": [
      "47482\n",
      "84\n"
     ]
    }
   ],
   "source": [
    "# data frame rows length\n",
    "rows_num = len(vehicles)\n",
    "print(f\"Number of rows: {rows_num}\")\n",
    "\n",
    "# numbercolumns_num = len(vehicles.columns) of columns in data frame\n",
    "columns_num = len(vehicles.columns)\n",
    "print(f\"Number of columns: {columns_num}\")"
   ]
  },
  {
   "cell_type": "code",
   "execution_count": 12,
   "metadata": {},
   "outputs": [
    {
     "name": "stdout",
     "output_type": "stream",
     "text": [
      "Index(['barrels08', 'barrelsA08', 'charge120', 'charge240', 'city08',\n",
      "       'city08U', 'cityA08', 'cityA08U', 'cityCD', 'cityE', 'cityUF', 'co2',\n",
      "       'co2A', 'co2TailpipeAGpm', 'co2TailpipeGpm', 'comb08', 'comb08U',\n",
      "       'combA08', 'combA08U', 'combE', 'combinedCD', 'combinedUF', 'cylinders',\n",
      "       'displ', 'drive', 'engId', 'eng_dscr', 'feScore', 'fuelCost08',\n",
      "       'fuelCostA08', 'fuelType', 'fuelType1', 'ghgScore', 'ghgScoreA',\n",
      "       'highway08', 'highway08U', 'highwayA08', 'highwayA08U', 'highwayCD',\n",
      "       'highwayE', 'highwayUF', 'hlv', 'hpv', 'id', 'lv2', 'lv4', 'make',\n",
      "       'model', 'mpgData', 'phevBlended', 'pv2', 'pv4', 'range', 'rangeCity',\n",
      "       'rangeCityA', 'rangeHwy', 'rangeHwyA', 'trany', 'UCity', 'UCityA',\n",
      "       'UHighway', 'UHighwayA', 'VClass', 'year', 'youSaveSpend', 'baseModel',\n",
      "       'guzzler', 'trans_dscr', 'tCharger', 'sCharger', 'atvType', 'fuelType2',\n",
      "       'rangeA', 'evMotor', 'mfrCode', 'c240Dscr', 'charge240b', 'c240bDscr',\n",
      "       'createdOn', 'modifiedOn', 'startStop', 'phevCity', 'phevHwy',\n",
      "       'phevComb'],\n",
      "      dtype='object')\n"
     ]
    }
   ],
   "source": [
    "print(vehicles.columns)"
   ]
  },
  {
   "cell_type": "code",
   "execution_count": 18,
   "metadata": {},
   "outputs": [
    {
     "name": "stdout",
     "output_type": "stream",
     "text": [
      "Unique years list is: \n",
      "[1985 1993 1994 1995 1996 1997 1998 1999 2000 2001 1986 2002 2003 2004\n",
      " 2005 2006 2007 2008 2009 2010 1984 1987 1988 1989 1990 1991 1992 2011\n",
      " 2012 2013 2014 2015 2016 2017 2018 2019 2020 2021 2022 2023 2024 2025] \n",
      " with a total of: \n",
      "42 values\n"
     ]
    }
   ],
   "source": [
    "# Identify the unique values of a column\n",
    "unique_years = pd.unique(vehicles.year)\n",
    "num_unique_years = len(unique_years)\n",
    "\n",
    "print(f\"Unique years list: \\n{unique_years} \\n with a total of: \\n{len(unique_years)} values\")"
   ]
  },
  {
   "cell_type": "code",
   "execution_count": 22,
   "metadata": {},
   "outputs": [
    {
     "name": "stdout",
     "output_type": "stream",
     "text": [
      "The newest vehicle model is: 2025 \n",
      "The oldest vehicle model is: 1984\n"
     ]
    }
   ],
   "source": [
    "# Find the maxmum and minmum values from a column\n",
    "older_model = min(vehicles.year)\n",
    "newer_model = max(vehicles[\"year\"])\n",
    "print(f\"The newest vehicle model is: {newer_model} \\nThe oldest vehicle model is: {older_model}\")"
   ]
  },
  {
   "cell_type": "code",
   "execution_count": 36,
   "metadata": {},
   "outputs": [
    {
     "name": "stdout",
     "output_type": "stream",
     "text": [
      "Type of fuel count: fuelType\n",
      "Regular                        28872\n",
      "Premium                        14419\n",
      "Gasoline or E85                 1397\n",
      "Diesel                          1274\n",
      "Electricity                      766\n",
      "Premium and Electricity          177\n",
      "Midgrade                         164\n",
      "Premium or E85                   128\n",
      "Regular Gas and Electricity      106\n",
      "CNG                               60\n",
      "Premium Gas or Electricity        55\n",
      "Hydrogen                          32\n",
      "Gasoline or natural gas           20\n",
      "Gasoline or propane                8\n",
      "Regular Gas or Electricity         4\n",
      "Name: count, dtype: int64\n",
      "\n",
      "\n",
      "Type of transmision count: trany\n",
      "Automatic 4-spd                     11048\n",
      "Manual 5-spd                         8391\n",
      "Automatic (S6)                       3337\n",
      "Automatic (S8)                       3154\n",
      "Automatic 3-spd                      3151\n",
      "Manual 6-spd                         3078\n",
      "Automatic 5-spd                      2203\n",
      "Automatic 6-spd                      1751\n",
      "Manual 4-spd                         1483\n",
      "Automatic (variable gear ratios)     1097\n",
      "Automatic 8-spd                       975\n",
      "Automatic (S5)                        848\n",
      "Automatic (AM-S7)                     763\n",
      "Automatic 9-spd                       743\n",
      "Automatic (A1)                        730\n",
      "Automatic 7-spd                       720\n",
      "Automatic (S10)                       582\n",
      "Automatic (S7)                        386\n",
      "Automatic 10-spd                      380\n",
      "Automatic (AV-S6)                     323\n",
      "Automatic (AM7)                       318\n",
      "Automatic (AM-S8)                     285\n",
      "Automatic (S9)                        250\n",
      "Automatic (S4)                        233\n",
      "Automatic (AV-S7)                     212\n",
      "Automatic (AM-S6)                     191\n",
      "Automatic (AV-S8)                     181\n",
      "Manual 7-spd                          176\n",
      "Automatic (AM6)                       160\n",
      "Manual 3-spd                           77\n",
      "Automatic (A2)                         64\n",
      "Automatic (AM8)                        60\n",
      "Automatic (AV-S10)                     53\n",
      "Automatic (AV-S1)                      25\n",
      "Manual 4-spd Doubled                   17\n",
      "Automatic (AM5)                        14\n",
      "Automatic (AM-S9)                       6\n",
      "Automatic (L3)                          2\n",
      "Automatic (L4)                          2\n",
      "Automatic (AM-S10)                      2\n",
      "Name: count, dtype: int64\n"
     ]
    },
    {
     "name": "stderr",
     "output_type": "stream",
     "text": [
      "C:\\Users\\damal\\AppData\\Local\\Temp\\ipykernel_8824\\3118586816.py:2: FutureWarning: pandas.value_counts is deprecated and will be removed in a future version. Use pd.Series(obj).value_counts() instead.\n",
      "  fuel_type_counts = pd.value_counts(vehicles.fuelType)\n",
      "C:\\Users\\damal\\AppData\\Local\\Temp\\ipykernel_8824\\3118586816.py:3: FutureWarning: pandas.value_counts is deprecated and will be removed in a future version. Use pd.Series(obj).value_counts() instead.\n",
      "  transmission_counts = pd.value_counts(vehicles.trany)\n"
     ]
    }
   ],
   "source": [
    "# value_counts() counts the occurrences of each variable type\n",
    "fuel_type_counts = pd.value_counts(vehicles.fuelType)\n",
    "transmission_counts = pd.value_counts(vehicles.trany)\n",
    "print(f\"Type of fuel count: {fuel_type_counts}\")\n",
    "print(f\"\\n\\nType of transmision count: {transmission_counts}\")"
   ]
  },
  {
   "cell_type": "code",
   "execution_count": 38,
   "metadata": {},
   "outputs": [
    {
     "name": "stdout",
     "output_type": "stream",
     "text": [
      "trany2\n",
      "A    34249\n",
      "M    13222\n",
      "Name: count, dtype: int64\n"
     ]
    },
    {
     "name": "stderr",
     "output_type": "stream",
     "text": [
      "C:\\Users\\damal\\AppData\\Local\\Temp\\ipykernel_8824\\4111342390.py:3: FutureWarning: pandas.value_counts is deprecated and will be removed in a future version. Use pd.Series(obj).value_counts() instead.\n",
      "  auto_man_trany_count = pd.value_counts(vehicles.trany2)\n"
     ]
    }
   ],
   "source": [
    "# We can join a list of variable types into bigger groups and create a new Series  obj\n",
    "vehicles[\"trany2\"] = vehicles.trany.str[0]\n",
    "auto_man_trany_count = pd.value_counts(vehicles.trany2)\n",
    "print(auto_man_trany_count)"
   ]
  },
  {
   "cell_type": "code",
   "execution_count": null,
   "metadata": {},
   "outputs": [],
   "source": []
  }
 ],
 "metadata": {
  "kernelspec": {
   "display_name": "Python 3",
   "language": "python",
   "name": "python3"
  },
  "language_info": {
   "codemirror_mode": {
    "name": "ipython",
    "version": 3
   },
   "file_extension": ".py",
   "mimetype": "text/x-python",
   "name": "python",
   "nbconvert_exporter": "python",
   "pygments_lexer": "ipython3",
   "version": "3.12.3"
  }
 },
 "nbformat": 4,
 "nbformat_minor": 2
}
